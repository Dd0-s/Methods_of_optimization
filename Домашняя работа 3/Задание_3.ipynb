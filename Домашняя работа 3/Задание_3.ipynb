{
 "cells": [
  {
   "cell_type": "markdown",
   "id": "0a6fcbb6",
   "metadata": {},
   "source": [
    "# Домашнее задание 3\n",
    "\n",
    "Это домашнее задание по материалам второго семинаров. Дедлайн по отправке - 23:55 24 февраля. \n",
    "\n",
    "Домашнее задание выполняется в этом же Jupyter Notebook'e и присылается мне на почту: __beznosikov.an@phystech.edu__.\n",
    "\n",
    "Решение каждой задачи необходимо поместить после её условия.\n",
    "\n",
    "Файл должен называться: Фамилия_Имя_Optimization_HW_3\n",
    "\n",
    "При полном запуске Вашего решения (Kernel -> Restart & Run All) все ячейки должны выполняться без ошибок. "
   ]
  },
  {
   "cell_type": "code",
   "execution_count": 352,
   "id": "0f42517c",
   "metadata": {
    "ExecuteTime": {
     "end_time": "2023-02-26T14:14:23.804263Z",
     "start_time": "2023-02-26T14:14:23.798969Z"
    }
   },
   "outputs": [],
   "source": [
    "import numpy as np\n",
    "import optimization as opt\n",
    "from sklearn.datasets import load_svmlight_file\n",
    "from matplotlib import pylab as plt\n",
    "from sklearn.metrics import accuracy_score, mean_squared_error"
   ]
  },
  {
   "cell_type": "markdown",
   "id": "969a8d32",
   "metadata": {},
   "source": [
    "## Задача 1\n",
    "\n",
    "Вновь рассмотрим задачу минимизации эмпирического риска:\n",
    "\\begin{equation}\n",
    "\\min_{w \\in \\mathbb{R}^d} \\frac{1}{n} \\sum\\limits_{i=1}^n l (g(w, x_i), y_i).\n",
    "\\end{equation}\n",
    "\n",
    "В прошлом задании работа шла с линейной модель $g(w, x) = w^T x$ и квадратичную функцию потерь $l(z, y) = (z-y)^2$. \n",
    "\n",
    "__(а)__ В дополнение к квадратичной функции потерь реализуйте логистическую/сигмоидную: $l(z,y) = \\ln (1 + \\exp(-yz))$ (__Важно: $y$ должен принимать значения $-1$ или $1$__). Выпишите градиент. Является ли новая задача регресии выпуклой? Оцените $L$ для новой функции потерь. "
   ]
  },
  {
   "cell_type": "markdown",
   "id": "701e5128",
   "metadata": {},
   "source": [
    "Пусть $x_i \\in \\mathbb{R}^d$ - ветор признаков для $i$-го элемента выборки. Тогда:\n",
    "\n",
    "$$X = \\begin{pmatrix}\n",
    "        x_1^T \\\\\n",
    "        \\vdots \\\\\n",
    "        x_n^T\n",
    "      \\end{pmatrix}$$\n",
    "      \n",
    "$$\\min_{w \\in \\mathbb{R}^d} \\frac{1}{n} \\sum\\limits_{i=1}^n l (g(w, x_i), y_i) = \\min_{w \\in \\mathbb{R}^d} \\frac{1}{n} \\sum\\limits_{i=1}^n l (w^Tx_i, y_i) = \\min_{w \\in \\mathbb{R}^d} \\frac{1}{n} \\sum\\limits_{i=1}^n \\ln (1 + \\exp(-w^Tx_iy_i))$$\n",
    "\n",
    "Перепишем $f(w)$:\n",
    "\n",
    "$$f(w) = \\frac{1}{n} \\sum\\limits_{i=1}^n \\ln (1 + \\exp(-w^Tx_iy_i))$$\n",
    "\n",
    "Найдем $\\nabla f(w)$:\n",
    "\n",
    "$$\\frac{\\partial f(w)}{\\partial w_k} = - \\frac{1}{n} \\sum\\limits_{i=1}^n \\frac{x_{ik} y_i \\exp(-w^Tx_iy_i)}{1 + \\exp(-w^Tx_iy_i)}$$\n",
    "\n",
    "$$\\nabla f(w) = - \\frac{1}{n} \\sum\\limits_{i=1}^n \\frac{y_i}{1 + \\exp(w^Tx_iy_i)} x_i$$\n",
    "\n",
    "Найдем $\\nabla^2 f(w)$:\n",
    "\n",
    "$$\\frac{\\partial f(w)}{\\partial w_k \\partial w_p} = \\frac{1}{n} \\sum\\limits_{i=1}^n x_{ik} x_{ip} y_i^2 \\frac{\\exp(w^Tx_iy_i)}{(1 + \\exp(w^Tx_iy_i))^2}$$\n",
    "\n",
    "С учетом того, что $y_i$ принимает значения 1 и -1:\n",
    "\n",
    "$$\\nabla^2 f(w) = \\frac{1}{n} \\sum\\limits_{i=1}^n \\frac{\\exp(w^Tx_iy_i)}{(1 + \\exp(w^Tx_iy_i))^2} x_i x_i^T$$\n",
    "\n",
    "$\\nabla^2 f(w) \\succeq 0$, так гессиан представляется в виде суммы положительно полуопределеенных матриц, взятыми с положительными коэффициентами. Следовательно задача выпуклая.\n",
    "\n",
    "Определим константу Липшица градиента, пользовался [этой статьей](https://www.eecis.udel.edu/~xwu/class/ELEG867/Lecture9.pdf):\n",
    "\n",
    "$$\\| \\nabla f(w) - \\nabla f(v) \\|_2 \\leq L \\| w - v \\|_2$$\n",
    "\n",
    "$$\\| \\nabla f(w) \\|_2^2 \\leq 2L f(w)$$\n",
    "\n",
    "Найдем константу Липшица для одномерной $g(z) = \\ln(1 + \\exp(-z))$:\n",
    "\n",
    "$$g'(z) = - \\frac{1}{1 + \\exp{(z)}}$$\n",
    "\n",
    "$$g''(z) = \\frac{\\exp{(z)}}{(1 + \\exp{(z)})^2}$$\n",
    "\n",
    "$$g'^2(z) \\leq 2 L' g(z) \\Rightarrow \\frac{1}{2 L'} \\leq (1 + \\exp{(z)})^2 \\ln(1 + \\exp(-z)) \\Rightarrow \\frac{1}{2 L'} \\leq \\frac{4}{2} \\Rightarrow L' \\geq \\frac{1}{4}$$\n",
    "\n",
    "$$\\| \\nabla f(w) - \\nabla f(v) \\|_2 = \\left \\| \\frac{1}{n} \\sum\\limits_{i=1}^n \\frac{y_i}{1 + \\exp(w^Tx_iy_i)} x_i - \\frac{1}{n} \\sum\\limits_{i=1}^n \\frac{y_i}{1 + \\exp(v^Tx_iy_i)} x_i \\right\\|_2 = \\frac{1}{n} \\left \\| \\sum\\limits_{i=1}^n \\left( \\frac{1}{1 + \\exp(w^Tx_iy_i)} - \\frac{1}{1 + \\exp(v^Tx_iy_i)} \\right) y_i x_i \\right\\|_2 \\leq \\frac{1}{n} \\left \\| \\sum\\limits_{i=1}^n \\frac{1}{4} \\| w^Tx_iy_i - v^Tx_iy_i \\|_2 y_i x_i \\right\\|_2 \\leq \\frac{1}{4n} \\left \\| \\sum\\limits_{i=1}^n \\| w - v \\|_2 \\| y_i x_i \\|_2^2 \\right\\|_2 = \\frac{1}{4n} \\left \\| \\sum\\limits_{i=1}^n \\| x_i \\|_2^2 \\right\\|_2 \\| w - v \\|_2$$\n",
    "\n",
    "$$L = \\frac{1}{4} \\max_i \\|x_i\\|_2^2$$"
   ]
  },
  {
   "cell_type": "markdown",
   "id": "ecdb57fe",
   "metadata": {},
   "source": [
    "__(б)__ Возьмите датасет _mushrooms_ из прошлого задания. Проделайте следующие шаги из прошлого задания, только с логистической функцией потерь:\n",
    "\n",
    "1) Разделите данные на две части: обучающую и тестовую.\n",
    "\n",
    "2) Для обучающей части $X_{train}$, $y_{train}$ оцените константу $L$ задачи обучения/оптимизации.\n",
    "\n",
    "3) Используя градиентный спуск, обучите новую модель (без ограничений и регуляризаций). Постройте график: точность от номера итерации.\n",
    "\n",
    "4) Если в пункте 3) пришлось столкнуться с проблемами или просто необходимо улучшить точность, то добавьте ограничения или $\\ell_2$-регуляризацию, как в прошлом ДЗ.\n",
    "\n",
    "5) Сравните с результатами квадратичной функции потерь из прошлого ДЗ."
   ]
  },
  {
   "cell_type": "markdown",
   "id": "3e512b4c",
   "metadata": {},
   "source": [
    "1)Разделите данные на две части: обучающую и тестовую."
   ]
  },
  {
   "cell_type": "code",
   "execution_count": 353,
   "id": "0c4bb84c",
   "metadata": {
    "ExecuteTime": {
     "end_time": "2023-02-26T14:14:27.992822Z",
     "start_time": "2023-02-26T14:14:27.910339Z"
    }
   },
   "outputs": [],
   "source": [
    "dataset = \"mushrooms.txt\"\n",
    "data = load_svmlight_file(dataset)\n",
    "X, y = data[0].toarray(), data[1]\n",
    "n, d = X.shape\n",
    "y = 2 * y - 3"
   ]
  },
  {
   "cell_type": "code",
   "execution_count": 354,
   "id": "23a96797",
   "metadata": {
    "ExecuteTime": {
     "end_time": "2023-02-26T14:14:28.537480Z",
     "start_time": "2023-02-26T14:14:28.514814Z"
    }
   },
   "outputs": [],
   "source": [
    "seed = 4\n",
    "\n",
    "np.random.seed(seed)\n",
    "np.random.shuffle(X)\n",
    "X_train = X[:(n*4) // 5]\n",
    "X_test = X[(n*4) // 5:]\n",
    "\n",
    "np.random.seed(seed)\n",
    "np.random.shuffle(y)\n",
    "y_train = y[:(n*4) // 5]\n",
    "y_test = y[(n*4) // 5:]"
   ]
  },
  {
   "cell_type": "markdown",
   "id": "02d3b5b5",
   "metadata": {},
   "source": [
    "2) Для обучающей части $X_{train}$, $y_{train}$ оцените константу $L$ задачи обучения/оптимизации."
   ]
  },
  {
   "cell_type": "code",
   "execution_count": 355,
   "id": "c7ff2726",
   "metadata": {
    "ExecuteTime": {
     "end_time": "2023-02-26T14:14:31.546337Z",
     "start_time": "2023-02-26T14:14:31.474507Z"
    }
   },
   "outputs": [
    {
     "name": "stdout",
     "output_type": "stream",
     "text": [
      "L = 5.25\n"
     ]
    }
   ],
   "source": [
    "maximum = -1\n",
    "for line in X_train:\n",
    "    norm = np.linalg.norm(line, ord = 2)**2    \n",
    "    if norm > maximum:\n",
    "        maximum = norm\n",
    "L = maximum / 4\n",
    "print(\"L =\", round(L, 2))"
   ]
  },
  {
   "cell_type": "markdown",
   "id": "e4dce1e7",
   "metadata": {},
   "source": [
    "3) Используя градиентный спуск, обучите новую модель (без ограничений и регуляризаций). Постройте график: точность от номера итерации."
   ]
  },
  {
   "cell_type": "code",
   "execution_count": 356,
   "id": "8404e9ba",
   "metadata": {
    "ExecuteTime": {
     "end_time": "2023-02-26T14:14:33.177031Z",
     "start_time": "2023-02-26T14:14:33.170777Z"
    }
   },
   "outputs": [],
   "source": [
    "#Целевая функция\n",
    "def f(w):\n",
    "    s = 0\n",
    "    for i in range(F.shape[0]):\n",
    "        s += np.log(1 + np.exp(- w.T @ F[i] * a[i]))\n",
    "    return 1 / F.shape[0] * s\n",
    "\n",
    "#Градиент функции \n",
    "def grad_f(w):\n",
    "    s = 0\n",
    "    for i in range(F.shape[0]):\n",
    "        s += 1 / (1 + np.exp(w.T @ F[i] * a[i])) * a[i] * F[i]\n",
    "    return - 1 / F.shape[0] * s"
   ]
  },
  {
   "cell_type": "markdown",
   "id": "b2ec34bf",
   "metadata": {},
   "source": [
    "crit - критерий сходимости:\n",
    "\n",
    "0. crit = 0: $\\left\\| x^k - x^* \\right\\|_2^2$\n",
    "1. crit = 1: $\\left| f(x^k) - f(x^*)\\right|$\n",
    "2. crit = 2: $\\left\\| x^{k+1} - x^k \\right\\|_2^2$\n",
    "3. crit = 3: $\\left | f(x^{k+1}) - f(x^k) \\right|$\n",
    "4. crit = 4: $\\left\\| \\nabla f(x^k) \\right\\|_2^2$"
   ]
  },
  {
   "cell_type": "code",
   "execution_count": 357,
   "id": "f5a6b48c",
   "metadata": {
    "ExecuteTime": {
     "end_time": "2023-02-26T14:14:34.470183Z",
     "start_time": "2023-02-26T14:14:34.462414Z"
    }
   },
   "outputs": [],
   "source": [
    "#Градиентный спуск из 1-го задания\n",
    "def gradient_descent(grad_f, x_0, gamma, iteration, f, crit, x_sol=None, epsilon=10**-7):\n",
    "    x_now = x_0\n",
    "    errors = []\n",
    "    for k in opt.progress(range(iteration)):\n",
    "        x_next = x_now - gamma * grad_f(x_now)\n",
    "        if crit == 0:\n",
    "            err = np.linalg.norm(x_now - x_sol, ord = 2)**2\n",
    "        elif crit == 1:\n",
    "            err = f(x_now) - f(x_sol)\n",
    "        elif crit == 2:\n",
    "            err = np.linalg.norm(x_next - x_now, ord = 2)**2\n",
    "        elif crit == 3:\n",
    "            err = f(x_now) - f(x_next)\n",
    "        elif crit == 4:\n",
    "            err = np.linalg.norm(grad_f(x_now), ord = 2)**2\n",
    "        x_now = x_next\n",
    "        errors.append(err)\n",
    "        if err < epsilon:\n",
    "            break\n",
    "    return x_now, errors"
   ]
  },
  {
   "cell_type": "code",
   "execution_count": 358,
   "id": "d8ac0f6d",
   "metadata": {
    "ExecuteTime": {
     "end_time": "2023-02-26T14:14:35.276585Z",
     "start_time": "2023-02-26T14:14:35.271237Z"
    }
   },
   "outputs": [],
   "source": [
    "F = X_train\n",
    "a = y_train\n",
    "\n",
    "np.random.seed(8)\n",
    "w_0 = np.random.sample(d)"
   ]
  },
  {
   "cell_type": "code",
   "execution_count": 360,
   "id": "6e1e941b",
   "metadata": {
    "ExecuteTime": {
     "end_time": "2023-02-26T14:16:35.284554Z",
     "start_time": "2023-02-26T14:15:19.393916Z"
    }
   },
   "outputs": [
    {
     "data": {
      "application/vnd.jupyter.widget-view+json": {
       "model_id": "547f702fa47749d2bf1897c2bf2d4315",
       "version_major": 2,
       "version_minor": 0
      },
      "text/plain": [
       "VBox(children=(HTML(value=''), IntProgress(value=0, max=1000)))"
      ]
     },
     "metadata": {},
     "output_type": "display_data"
    },
    {
     "name": "stdout",
     "output_type": "stream",
     "text": [
      "f(w) =  0.04447374495606375\n"
     ]
    }
   ],
   "source": [
    "w, errors = gradient_descent(grad_f, w_0, 1 / L, 1000, f, 4)\n",
    "iterations = np.array(range(len(errors)))\n",
    "print(\"f(w) = \", f(w))"
   ]
  },
  {
   "cell_type": "code",
   "execution_count": 361,
   "id": "98754f2a",
   "metadata": {
    "ExecuteTime": {
     "end_time": "2023-02-26T14:16:35.637742Z",
     "start_time": "2023-02-26T14:16:35.287004Z"
    },
    "scrolled": false
   },
   "outputs": [
    {
     "data": {
      "image/png": "[encoded data removed]",
      "text/plain": [
       "<Figure size 1440x720 with 1 Axes>"
      ]
     },
     "metadata": {
      "needs_background": "light"
     },
     "output_type": "display_data"
    }
   ],
   "source": [
    "plt.figure(figsize = (20, 10))\n",
    "\n",
    "plt.plot(iterations, np.log(errors), color = 'blue', label = 'Полученная сходимость')\n",
    "\n",
    "plt.title(\"Логарифм значения критерия от номера итерации\", fontsize = 18)\n",
    "plt.xlabel(\"Номер итерации\", fontsize = 18)\n",
    "plt.ylabel(\"Значение критерия\", fontsize = 18)\n",
    "\n",
    "plt.legend(fontsize = 20)\n",
    "plt.show()"
   ]
  },
  {
   "cell_type": "markdown",
   "id": "505340e4",
   "metadata": {},
   "source": [
    "4) Если в пункте 3) пришлось столкнуться с проблемами или просто необходимо улучшить точность, то добавьте ограничения или $\\ell_2$-регуляризацию, как в прошлом ДЗ."
   ]
  },
  {
   "cell_type": "markdown",
   "id": "b235c975",
   "metadata": {},
   "source": [
    "Проблем не возникло."
   ]
  },
  {
   "cell_type": "markdown",
   "id": "e6d60abd",
   "metadata": {},
   "source": [
    "5) Сравните с результатами квадратичной функции потерь из прошлого ДЗ."
   ]
  },
  {
   "cell_type": "code",
   "execution_count": 362,
   "id": "0a7d44c6",
   "metadata": {
    "ExecuteTime": {
     "end_time": "2023-02-26T14:16:35.649590Z",
     "start_time": "2023-02-26T14:16:35.639118Z"
    }
   },
   "outputs": [
    {
     "name": "stdout",
     "output_type": "stream",
     "text": [
      "Accuracy = 0.9913846153846154\n"
     ]
    }
   ],
   "source": [
    "y_pred = X_test @ w\n",
    "for i in range(len(y_pred)):\n",
    "    if y_pred[i] > 0:\n",
    "        y_pred[i] = 1\n",
    "    else:\n",
    "        y_pred[i] = -1\n",
    "\n",
    "print(\"Accuracy =\", accuracy_score(y_test, y_pred))"
   ]
  },
  {
   "cell_type": "code",
   "execution_count": 363,
   "id": "409713f8",
   "metadata": {
    "ExecuteTime": {
     "end_time": "2023-02-26T14:16:35.658873Z",
     "start_time": "2023-02-26T14:16:35.652585Z"
    }
   },
   "outputs": [],
   "source": [
    "def accuracy_graf_grad(y_test, X_test, grad_f, x_0, gamma, iteration, f, crit):\n",
    "    accuracy = []\n",
    "    for i in opt.progress(range(5, iteration + 1, 5)):\n",
    "        w, _ = gradient_descent(grad_f, x_0, gamma, i, f, crit)\n",
    "        y_pred = X_test @ w\n",
    "        for i in range(len(y_pred)):\n",
    "            if y_pred[i] > 0:\n",
    "                y_pred[i] = 1\n",
    "            else:\n",
    "                y_pred[i] = -1\n",
    "        accuracy.append(accuracy_score(y_test, y_pred))\n",
    "    return accuracy"
   ]
  },
  {
   "cell_type": "code",
   "execution_count": 364,
   "id": "5d5a94d0",
   "metadata": {
    "ExecuteTime": {
     "end_time": "2023-02-26T14:17:59.354946Z",
     "start_time": "2023-02-26T14:16:35.660832Z"
    },
    "scrolled": true
   },
   "outputs": [
    {
     "data": {
      "application/vnd.jupyter.widget-view+json": {
       "model_id": "1f87034c482d4118b100e5afbdad7422",
       "version_major": 2,
       "version_minor": 0
      },
      "text/plain": [
       "VBox(children=(HTML(value=''), IntProgress(value=0, max=20)))"
      ]
     },
     "metadata": {},
     "output_type": "display_data"
    },
    {
     "data": {
      "application/vnd.jupyter.widget-view+json": {
       "model_id": "07439be864774179adec1daadd43c696",
       "version_major": 2,
       "version_minor": 0
      },
      "text/plain": [
       "VBox(children=(HTML(value=''), IntProgress(value=0, max=5)))"
      ]
     },
     "metadata": {},
     "output_type": "display_data"
    },
    {
     "data": {
      "application/vnd.jupyter.widget-view+json": {
       "model_id": "7ccd53e5d356456f90409098a2810625",
       "version_major": 2,
       "version_minor": 0
      },
      "text/plain": [
       "VBox(children=(HTML(value=''), IntProgress(value=0, max=10)))"
      ]
     },
     "metadata": {},
     "output_type": "display_data"
    },
    {
     "data": {
      "application/vnd.jupyter.widget-view+json": {
       "model_id": "0647f53a567d473394504c3003eced6d",
       "version_major": 2,
       "version_minor": 0
      },
      "text/plain": [
       "VBox(children=(HTML(value=''), IntProgress(value=0, max=15)))"
      ]
     },
     "metadata": {},
     "output_type": "display_data"
    },
    {
     "data": {
      "application/vnd.jupyter.widget-view+json": {
       "model_id": "2b8bd57f90764e96b93e488242e3b125",
       "version_major": 2,
       "version_minor": 0
      },
      "text/plain": [
       "VBox(children=(HTML(value=''), IntProgress(value=0, max=20)))"
      ]
     },
     "metadata": {},
     "output_type": "display_data"
    },
    {
     "data": {
      "application/vnd.jupyter.widget-view+json": {
       "model_id": "6dbd3fb338d34711a2244ddf844538f8",
       "version_major": 2,
       "version_minor": 0
      },
      "text/plain": [
       "VBox(children=(HTML(value=''), IntProgress(value=0, max=25)))"
      ]
     },
     "metadata": {},
     "output_type": "display_data"
    },
    {
     "data": {
      "application/vnd.jupyter.widget-view+json": {
       "model_id": "286d85b720844ca39fdb80351b3a7018",
       "version_major": 2,
       "version_minor": 0
      },
      "text/plain": [
       "VBox(children=(HTML(value=''), IntProgress(value=0, max=30)))"
      ]
     },
     "metadata": {},
     "output_type": "display_data"
    },
    {
     "data": {
      "application/vnd.jupyter.widget-view+json": {
       "model_id": "6f5808225e3c402da6cbcfd2c688e6f4",
       "version_major": 2,
       "version_minor": 0
      },
      "text/plain": [
       "VBox(children=(HTML(value=''), IntProgress(value=0, max=35)))"
      ]
     },
     "metadata": {},
     "output_type": "display_data"
    },
    {
     "data": {
      "application/vnd.jupyter.widget-view+json": {
       "model_id": "b0cd7095156c41efa4b6e9b9ec40681a",
       "version_major": 2,
       "version_minor": 0
      },
      "text/plain": [
       "VBox(children=(HTML(value=''), IntProgress(value=0, max=40)))"
      ]
     },
     "metadata": {},
     "output_type": "display_data"
    },
    {
     "data": {
      "application/vnd.jupyter.widget-view+json": {
       "model_id": "124537032bdf49a28e2aa85a0ac5ed34",
       "version_major": 2,
       "version_minor": 0
      },
      "text/plain": [
       "VBox(children=(HTML(value=''), IntProgress(value=0, max=45)))"
      ]
     },
     "metadata": {},
     "output_type": "display_data"
    },
    {
     "data": {
      "application/vnd.jupyter.widget-view+json": {
       "model_id": "9f385657e33a4a42aa22ccc3cfd18ed9",
       "version_major": 2,
       "version_minor": 0
      },
      "text/plain": [
       "VBox(children=(HTML(value=''), IntProgress(value=0, max=50)))"
      ]
     },
     "metadata": {},
     "output_type": "display_data"
    },
    {
     "data": {
      "application/vnd.jupyter.widget-view+json": {
       "model_id": "aa2e6aa8e42a4b8c80e09aef99e8b149",
       "version_major": 2,
       "version_minor": 0
      },
      "text/plain": [
       "VBox(children=(HTML(value=''), IntProgress(value=0, max=55)))"
      ]
     },
     "metadata": {},
     "output_type": "display_data"
    },
    {
     "data": {
      "application/vnd.jupyter.widget-view+json": {
       "model_id": "5cb559a01479405f845e5cea88d0c04b",
       "version_major": 2,
       "version_minor": 0
      },
      "text/plain": [
       "VBox(children=(HTML(value=''), IntProgress(value=0, max=60)))"
      ]
     },
     "metadata": {},
     "output_type": "display_data"
    },
    {
     "data": {
      "application/vnd.jupyter.widget-view+json": {
       "model_id": "a8155ba8ca974df498ad9227401f142a",
       "version_major": 2,
       "version_minor": 0
      },
      "text/plain": [
       "VBox(children=(HTML(value=''), IntProgress(value=0, max=65)))"
      ]
     },
     "metadata": {},
     "output_type": "display_data"
    },
    {
     "data": {
      "application/vnd.jupyter.widget-view+json": {
       "model_id": "11632346b7d842de9b7fb568e4ca3268",
       "version_major": 2,
       "version_minor": 0
      },
      "text/plain": [
       "VBox(children=(HTML(value=''), IntProgress(value=0, max=70)))"
      ]
     },
     "metadata": {},
     "output_type": "display_data"
    },
    {
     "data": {
      "application/vnd.jupyter.widget-view+json": {
       "model_id": "55456be3a6af4696a21106477c151908",
       "version_major": 2,
       "version_minor": 0
      },
      "text/plain": [
       "VBox(children=(HTML(value=''), IntProgress(value=0, max=75)))"
      ]
     },
     "metadata": {},
     "output_type": "display_data"
    },
    {
     "data": {
      "application/vnd.jupyter.widget-view+json": {
       "model_id": "80ad01b802804af7b6917cf179b18938",
       "version_major": 2,
       "version_minor": 0
      },
      "text/plain": [
       "VBox(children=(HTML(value=''), IntProgress(value=0, max=80)))"
      ]
     },
     "metadata": {},
     "output_type": "display_data"
    },
    {
     "data": {
      "application/vnd.jupyter.widget-view+json": {
       "model_id": "39c20984c90844c59b6cbbcd76007c13",
       "version_major": 2,
       "version_minor": 0
      },
      "text/plain": [
       "VBox(children=(HTML(value=''), IntProgress(value=0, max=85)))"
      ]
     },
     "metadata": {},
     "output_type": "display_data"
    },
    {
     "data": {
      "application/vnd.jupyter.widget-view+json": {
       "model_id": "07e7011f4088477a9f072b0cabdcc285",
       "version_major": 2,
       "version_minor": 0
      },
      "text/plain": [
       "VBox(children=(HTML(value=''), IntProgress(value=0, max=90)))"
      ]
     },
     "metadata": {},
     "output_type": "display_data"
    },
    {
     "data": {
      "application/vnd.jupyter.widget-view+json": {
       "model_id": "d8d7a8d62e3b4078897946d8c12f90e0",
       "version_major": 2,
       "version_minor": 0
      },
      "text/plain": [
       "VBox(children=(HTML(value=''), IntProgress(value=0, max=95)))"
      ]
     },
     "metadata": {},
     "output_type": "display_data"
    },
    {
     "data": {
      "application/vnd.jupyter.widget-view+json": {
       "model_id": "96adc7468b8841778be830ce8ce8e69d",
       "version_major": 2,
       "version_minor": 0
      },
      "text/plain": [
       "VBox(children=(HTML(value=''), IntProgress(value=0)))"
      ]
     },
     "metadata": {},
     "output_type": "display_data"
    }
   ],
   "source": [
    "accuracy = accuracy_graf_grad(y_test, X_test, grad_f, w_0, 1 / L, 100, f, 4)\n",
    "iterations = 5 * np.array(range(len(accuracy)))"
   ]
  },
  {
   "cell_type": "code",
   "execution_count": 365,
   "id": "18c30aab",
   "metadata": {
    "ExecuteTime": {
     "end_time": "2023-02-26T14:17:59.637218Z",
     "start_time": "2023-02-26T14:17:59.357177Z"
    },
    "scrolled": false
   },
   "outputs": [
    {
     "data": {
      "image/png": "[encoded data removed]",
      "text/plain": [
       "<Figure size 1440x720 with 1 Axes>"
      ]
     },
     "metadata": {
      "needs_background": "light"
     },
     "output_type": "display_data"
    }
   ],
   "source": [
    "plt.figure(figsize = (20, 10))\n",
    "\n",
    "plt.plot(iterations, accuracy, color = 'blue', label = 'Accuracy')\n",
    "\n",
    "plt.title(\"Accuracy от номера итерации\", fontsize = 20)\n",
    "plt.xlabel(\"Номер итерации\", fontsize = 20)\n",
    "plt.ylabel(\"Accuracy\", fontsize = 20)\n",
    "\n",
    "plt.legend(fontsize = 20)\n",
    "plt.show()"
   ]
  },
  {
   "cell_type": "markdown",
   "id": "fde4cf6a",
   "metadata": {},
   "source": [
    "Как мы видим метод с логистической функцией потерь работает примерно, как и сквадратичной функцией потерь. Accuracy получлось примерно одинаковым."
   ]
  },
  {
   "cell_type": "markdown",
   "id": "81d96a89",
   "metadata": {},
   "source": [
    "## Задача 2\n",
    "\n",
    "__(a)__ Реализуйте метод тяжелого шарика. "
   ]
  },
  {
   "cell_type": "markdown",
   "id": "7a317feb",
   "metadata": {},
   "source": [
    "Метод тяжелого шарика: \n",
    "\n",
    "$$x^{k + 1} = x^k - \\gamma \\nabla (x^k) + \\alpha (x^{k} - x^{k - 1})$$"
   ]
  },
  {
   "cell_type": "markdown",
   "id": "a2c91e8c",
   "metadata": {},
   "source": [
    "crit - критерий сходимости:\n",
    "\n",
    "0. crit = 0: $\\left\\| x^k - x^* \\right\\|_2^2$\n",
    "1. crit = 1: $\\left| f(x^k) - f(x^*)\\right|$\n",
    "2. crit = 2: $\\left\\| x^{k+1} - x^k \\right\\|_2^2$\n",
    "3. crit = 3: $\\left | f(x^{k+1}) - f(x^k) \\right|$\n",
    "4. crit = 4: $\\left\\| \\nabla f(x^k) \\right\\|_2^2$"
   ]
  },
  {
   "cell_type": "code",
   "execution_count": 366,
   "id": "438232f8",
   "metadata": {
    "ExecuteTime": {
     "end_time": "2023-02-26T14:17:59.647204Z",
     "start_time": "2023-02-26T14:17:59.639727Z"
    }
   },
   "outputs": [],
   "source": [
    "def heavy_ball(grad_f, x_0, gamma, alpha, iteration, f, crit, x_sol=None, epsilon=10**-7):\n",
    "    x_now = x_0\n",
    "    x_prev = x_0\n",
    "    errors = []\n",
    "    for k in opt.progress(range(iteration)):\n",
    "        x_next = x_now + alpha * (x_now - x_prev) - gamma * grad_f(x_now)\n",
    "        if crit == 0:\n",
    "            err = np.linalg.norm(x_now - x_sol, ord = 2)**2\n",
    "        elif crit == 1:\n",
    "            err = f(x_now) - f(x_sol)\n",
    "        elif crit == 2:\n",
    "            err = np.linalg.norm(x_next - x_now, ord = 2)**2\n",
    "        elif crit == 3:\n",
    "            err = f(x_now) - f(x_next)\n",
    "        elif crit == 4:\n",
    "            err = np.linalg.norm(grad_f(x_now), ord = 2)**2\n",
    "        x_help = x_now\n",
    "        x_now = x_next\n",
    "        x_prev = x_help\n",
    "        errors.append(err)\n",
    "        if err < epsilon:\n",
    "            break\n",
    "    return x_now, errors"
   ]
  },
  {
   "cell_type": "markdown",
   "id": "3fe201d2",
   "metadata": {},
   "source": [
    "__(б)__ Решите задачу логистической регрессии с помощью метода тяжелого шарика (не забудьте разделить выборку на две части: обучающую и тестовую). Зафиксируйте шаг $\\frac{1}{L}$ и перебирайте разные значения моментума от -1 до 1. Постройте график сходимости метода от числа итераций (критерий сходимости подберите самостоятельно) для различных значений моментума. Всегда ли сходимость является монотонной?"
   ]
  },
  {
   "cell_type": "code",
   "execution_count": 367,
   "id": "851d2ade",
   "metadata": {
    "ExecuteTime": {
     "end_time": "2023-02-26T14:27:35.554054Z",
     "start_time": "2023-02-26T14:23:25.072332Z"
    },
    "scrolled": true
   },
   "outputs": [
    {
     "data": {
      "application/vnd.jupyter.widget-view+json": {
       "model_id": "c2c4e0715a5245b5ba263a3ef67794a5",
       "version_major": 2,
       "version_minor": 0
      },
      "text/plain": [
       "VBox(children=(HTML(value=''), IntProgress(value=0, max=400)))"
      ]
     },
     "metadata": {},
     "output_type": "display_data"
    },
    {
     "data": {
      "application/vnd.jupyter.widget-view+json": {
       "model_id": "3ed42e89f3f947a7a8b0b07ab912b9c1",
       "version_major": 2,
       "version_minor": 0
      },
      "text/plain": [
       "VBox(children=(HTML(value=''), IntProgress(value=0, max=400)))"
      ]
     },
     "metadata": {},
     "output_type": "display_data"
    },
    {
     "data": {
      "application/vnd.jupyter.widget-view+json": {
       "model_id": "66d92805caf44d1ea0f3afbcf7e9c441",
       "version_major": 2,
       "version_minor": 0
      },
      "text/plain": [
       "VBox(children=(HTML(value=''), IntProgress(value=0, max=400)))"
      ]
     },
     "metadata": {},
     "output_type": "display_data"
    },
    {
     "data": {
      "application/vnd.jupyter.widget-view+json": {
       "model_id": "27f110c073724c5db38226c044903e7f",
       "version_major": 2,
       "version_minor": 0
      },
      "text/plain": [
       "VBox(children=(HTML(value=''), IntProgress(value=0, max=400)))"
      ]
     },
     "metadata": {},
     "output_type": "display_data"
    },
    {
     "data": {
      "application/vnd.jupyter.widget-view+json": {
       "model_id": "d9a22130286345ba9e9ad2de141c2e0e",
       "version_major": 2,
       "version_minor": 0
      },
      "text/plain": [
       "VBox(children=(HTML(value=''), IntProgress(value=0, max=400)))"
      ]
     },
     "metadata": {},
     "output_type": "display_data"
    },
    {
     "data": {
      "application/vnd.jupyter.widget-view+json": {
       "model_id": "02b9bd62a4f648d6bddef3a594133e0d",
       "version_major": 2,
       "version_minor": 0
      },
      "text/plain": [
       "VBox(children=(HTML(value=''), IntProgress(value=0, max=400)))"
      ]
     },
     "metadata": {},
     "output_type": "display_data"
    },
    {
     "data": {
      "application/vnd.jupyter.widget-view+json": {
       "model_id": "d64c49e9f2c848f189e2380ec92695a8",
       "version_major": 2,
       "version_minor": 0
      },
      "text/plain": [
       "VBox(children=(HTML(value=''), IntProgress(value=0, max=400)))"
      ]
     },
     "metadata": {},
     "output_type": "display_data"
    },
    {
     "data": {
      "application/vnd.jupyter.widget-view+json": {
       "model_id": "8aed1bf7830649a2b72a56806fea91da",
       "version_major": 2,
       "version_minor": 0
      },
      "text/plain": [
       "VBox(children=(HTML(value=''), IntProgress(value=0, max=400)))"
      ]
     },
     "metadata": {},
     "output_type": "display_data"
    }
   ],
   "source": [
    "errors = []\n",
    "iterations = []\n",
    "colors = [\"orange\", \"blue\", \"green\", \"red\", \"cyan\", \"purple\", \"pink\", \"gray\"]\n",
    "alphas = [-0.9, -0.6, -0.3, 0, 0.3, 0.6, 0.8, 0.9]\n",
    "\n",
    "for alpha in opt.progress(alphas): \n",
    "    _, error = heavy_ball(grad_f, w_0, 1 / L, alpha, 400, f, 4)\n",
    "    errors.append(error)\n",
    "    iteration = np.array(range(len(error)))\n",
    "    iterations.append(iteration)"
   ]
  },
  {
   "cell_type": "code",
   "execution_count": 368,
   "id": "d40582dc",
   "metadata": {
    "ExecuteTime": {
     "end_time": "2023-02-26T14:27:35.868025Z",
     "start_time": "2023-02-26T14:27:35.559169Z"
    },
    "scrolled": false
   },
   "outputs": [
    {
     "data": {
      "image/png": "[encoded data removed]",
      "text/plain": [
       "<Figure size 1440x720 with 1 Axes>"
      ]
     },
     "metadata": {
      "needs_background": "light"
     },
     "output_type": "display_data"
    }
   ],
   "source": [
    "plt.figure(figsize = (20, 10))\n",
    "\n",
    "for iteration, error, color, alpha in zip(iterations, errors, colors, alphas):\n",
    "    plt.plot(iteration, np.log(error), color, label = r\"$\\alpha$ = \" + str(alpha))\n",
    "\n",
    "plt.title(\"Логарифм значения критерия от номера итерации\", fontsize = 18)\n",
    "plt.xlabel(\"Номер итерации\", fontsize = 18)\n",
    "plt.ylabel(\"Значение критерия\", fontsize = 18)\n",
    "\n",
    "plt.legend(fontsize = 20)\n",
    "plt.show()"
   ]
  },
  {
   "cell_type": "markdown",
   "id": "1bcc74b9",
   "metadata": {},
   "source": [
    "Как мы видим для положительных $\\alpha$ сходимость не является монотонной, но достаточно быстро превращается в монотонную. Оптимальнее всего будет взять $\\alpha = 0.8$, так как хорошая скороть сходимости и не очень сильные колебания."
   ]
  },
  {
   "cell_type": "markdown",
   "id": "b3fb31fc",
   "metadata": {},
   "source": [
    "__(в)__ Для лучшего значения моментума постройте график зависимости точности модели на тестовой выборке от времени работы метода. Добавьте на этот же график сходимость градиентного спуска с шагом $\\frac{1}{L}$. Сделайте вывод."
   ]
  },
  {
   "cell_type": "code",
   "execution_count": 369,
   "id": "d0a46018",
   "metadata": {
    "ExecuteTime": {
     "end_time": "2023-02-26T14:27:35.875928Z",
     "start_time": "2023-02-26T14:27:35.870227Z"
    }
   },
   "outputs": [],
   "source": [
    "def accuracy_graf_ball(y_test, X_test, grad_f, x_0, gamma, alpha, iteration, f, crit):\n",
    "    accuracy = []\n",
    "    for i in opt.progress(range(5, iteration + 1, 5)):\n",
    "        w, _ = heavy_ball(grad_f, x_0, gamma, alpha, i, f, crit)\n",
    "        y_pred = X_test @ w\n",
    "        for i in range(len(y_pred)):\n",
    "            if y_pred[i] > 0:\n",
    "                y_pred[i] = 1\n",
    "            else:\n",
    "                y_pred[i] = -1\n",
    "        accuracy.append(accuracy_score(y_test, y_pred))\n",
    "    return accuracy"
   ]
  },
  {
   "cell_type": "code",
   "execution_count": 391,
   "id": "bdf5207c",
   "metadata": {
    "ExecuteTime": {
     "end_time": "2023-02-26T14:55:00.968407Z",
     "start_time": "2023-02-26T14:52:05.840597Z"
    },
    "scrolled": true
   },
   "outputs": [
    {
     "data": {
      "application/vnd.jupyter.widget-view+json": {
       "model_id": "77916455bc664762b9fb1816d3ad7dac",
       "version_major": 2,
       "version_minor": 0
      },
      "text/plain": [
       "VBox(children=(HTML(value=''), IntProgress(value=0, max=20)))"
      ]
     },
     "metadata": {},
     "output_type": "display_data"
    },
    {
     "data": {
      "application/vnd.jupyter.widget-view+json": {
       "model_id": "3433bc056bd04038b806ef7289eb407d",
       "version_major": 2,
       "version_minor": 0
      },
      "text/plain": [
       "VBox(children=(HTML(value=''), IntProgress(value=0, max=5)))"
      ]
     },
     "metadata": {},
     "output_type": "display_data"
    },
    {
     "data": {
      "application/vnd.jupyter.widget-view+json": {
       "model_id": "3a284843681a48e6b9568c78e4a33386",
       "version_major": 2,
       "version_minor": 0
      },
      "text/plain": [
       "VBox(children=(HTML(value=''), IntProgress(value=0, max=10)))"
      ]
     },
     "metadata": {},
     "output_type": "display_data"
    },
    {
     "data": {
      "application/vnd.jupyter.widget-view+json": {
       "model_id": "965c63ec5a8040ebb13f28e92b215475",
       "version_major": 2,
       "version_minor": 0
      },
      "text/plain": [
       "VBox(children=(HTML(value=''), IntProgress(value=0, max=15)))"
      ]
     },
     "metadata": {},
     "output_type": "display_data"
    },
    {
     "data": {
      "application/vnd.jupyter.widget-view+json": {
       "model_id": "b0c5531823a14a24be3dbe80d448c73b",
       "version_major": 2,
       "version_minor": 0
      },
      "text/plain": [
       "VBox(children=(HTML(value=''), IntProgress(value=0, max=20)))"
      ]
     },
     "metadata": {},
     "output_type": "display_data"
    },
    {
     "data": {
      "application/vnd.jupyter.widget-view+json": {
       "model_id": "51045732d05e4cae891fafe5a39a7f96",
       "version_major": 2,
       "version_minor": 0
      },
      "text/plain": [
       "VBox(children=(HTML(value=''), IntProgress(value=0, max=25)))"
      ]
     },
     "metadata": {},
     "output_type": "display_data"
    },
    {
     "data": {
      "application/vnd.jupyter.widget-view+json": {
       "model_id": "1d02264fa85347e08b5d94282fbb97ea",
       "version_major": 2,
       "version_minor": 0
      },
      "text/plain": [
       "VBox(children=(HTML(value=''), IntProgress(value=0, max=30)))"
      ]
     },
     "metadata": {},
     "output_type": "display_data"
    },
    {
     "data": {
      "application/vnd.jupyter.widget-view+json": {
       "model_id": "6d0bb0be9f954017aef347c48ec1fd0f",
       "version_major": 2,
       "version_minor": 0
      },
      "text/plain": [
       "VBox(children=(HTML(value=''), IntProgress(value=0, max=35)))"
      ]
     },
     "metadata": {},
     "output_type": "display_data"
    },
    {
     "data": {
      "application/vnd.jupyter.widget-view+json": {
       "model_id": "e8af7506625946b0800cdeacf0c43722",
       "version_major": 2,
       "version_minor": 0
      },
      "text/plain": [
       "VBox(children=(HTML(value=''), IntProgress(value=0, max=40)))"
      ]
     },
     "metadata": {},
     "output_type": "display_data"
    },
    {
     "data": {
      "application/vnd.jupyter.widget-view+json": {
       "model_id": "124f3e7a24354a13b2619a69a2053cae",
       "version_major": 2,
       "version_minor": 0
      },
      "text/plain": [
       "VBox(children=(HTML(value=''), IntProgress(value=0, max=45)))"
      ]
     },
     "metadata": {},
     "output_type": "display_data"
    },
    {
     "data": {
      "application/vnd.jupyter.widget-view+json": {
       "model_id": "78d4ba9f8689441a886d754f3992cefb",
       "version_major": 2,
       "version_minor": 0
      },
      "text/plain": [
       "VBox(children=(HTML(value=''), IntProgress(value=0, max=50)))"
      ]
     },
     "metadata": {},
     "output_type": "display_data"
    },
    {
     "data": {
      "application/vnd.jupyter.widget-view+json": {
       "model_id": "639b6a6ad1aa465c9f29b16f60cb8f2b",
       "version_major": 2,
       "version_minor": 0
      },
      "text/plain": [
       "VBox(children=(HTML(value=''), IntProgress(value=0, max=55)))"
      ]
     },
     "metadata": {},
     "output_type": "display_data"
    },
    {
     "data": {
      "application/vnd.jupyter.widget-view+json": {
       "model_id": "f764daa868be4a01a3181fa9ebbf98a3",
       "version_major": 2,
       "version_minor": 0
      },
      "text/plain": [
       "VBox(children=(HTML(value=''), IntProgress(value=0, max=60)))"
      ]
     },
     "metadata": {},
     "output_type": "display_data"
    },
    {
     "data": {
      "application/vnd.jupyter.widget-view+json": {
       "model_id": "ba517349eda242f280fd82d05f2f0b0b",
       "version_major": 2,
       "version_minor": 0
      },
      "text/plain": [
       "VBox(children=(HTML(value=''), IntProgress(value=0, max=65)))"
      ]
     },
     "metadata": {},
     "output_type": "display_data"
    },
    {
     "data": {
      "application/vnd.jupyter.widget-view+json": {
       "model_id": "7c4b37fecc4640cd93455f927c738768",
       "version_major": 2,
       "version_minor": 0
      },
      "text/plain": [
       "VBox(children=(HTML(value=''), IntProgress(value=0, max=70)))"
      ]
     },
     "metadata": {},
     "output_type": "display_data"
    },
    {
     "data": {
      "application/vnd.jupyter.widget-view+json": {
       "model_id": "971504fc43784cae92a3a0792ae51efe",
       "version_major": 2,
       "version_minor": 0
      },
      "text/plain": [
       "VBox(children=(HTML(value=''), IntProgress(value=0, max=75)))"
      ]
     },
     "metadata": {},
     "output_type": "display_data"
    },
    {
     "data": {
      "application/vnd.jupyter.widget-view+json": {
       "model_id": "97ef200868934ce2ad5c1198ebf68b78",
       "version_major": 2,
       "version_minor": 0
      },
      "text/plain": [
       "VBox(children=(HTML(value=''), IntProgress(value=0, max=80)))"
      ]
     },
     "metadata": {},
     "output_type": "display_data"
    },
    {
     "data": {
      "application/vnd.jupyter.widget-view+json": {
       "model_id": "62825f70682747799e36342401dd4b25",
       "version_major": 2,
       "version_minor": 0
      },
      "text/plain": [
       "VBox(children=(HTML(value=''), IntProgress(value=0, max=85)))"
      ]
     },
     "metadata": {},
     "output_type": "display_data"
    },
    {
     "data": {
      "application/vnd.jupyter.widget-view+json": {
       "model_id": "19b37e2a2b9d48b3ba77dee4b0e80148",
       "version_major": 2,
       "version_minor": 0
      },
      "text/plain": [
       "VBox(children=(HTML(value=''), IntProgress(value=0, max=90)))"
      ]
     },
     "metadata": {},
     "output_type": "display_data"
    },
    {
     "data": {
      "application/vnd.jupyter.widget-view+json": {
       "model_id": "0e59da66596c4f0f81d669d11b348522",
       "version_major": 2,
       "version_minor": 0
      },
      "text/plain": [
       "VBox(children=(HTML(value=''), IntProgress(value=0, max=95)))"
      ]
     },
     "metadata": {},
     "output_type": "display_data"
    },
    {
     "data": {
      "application/vnd.jupyter.widget-view+json": {
       "model_id": "e5d8710bc30342da9bcb694178465df4",
       "version_major": 2,
       "version_minor": 0
      },
      "text/plain": [
       "VBox(children=(HTML(value=''), IntProgress(value=0)))"
      ]
     },
     "metadata": {},
     "output_type": "display_data"
    },
    {
     "data": {
      "application/vnd.jupyter.widget-view+json": {
       "model_id": "cbf6331e92be45bb917c6bfc33df76b3",
       "version_major": 2,
       "version_minor": 0
      },
      "text/plain": [
       "VBox(children=(HTML(value=''), IntProgress(value=0, max=20)))"
      ]
     },
     "metadata": {},
     "output_type": "display_data"
    },
    {
     "data": {
      "application/vnd.jupyter.widget-view+json": {
       "model_id": "50af39aafc41408c9edc8dda3796a7cf",
       "version_major": 2,
       "version_minor": 0
      },
      "text/plain": [
       "VBox(children=(HTML(value=''), IntProgress(value=0, max=5)))"
      ]
     },
     "metadata": {},
     "output_type": "display_data"
    },
    {
     "data": {
      "application/vnd.jupyter.widget-view+json": {
       "model_id": "8303c99e046e493687958371265abb83",
       "version_major": 2,
       "version_minor": 0
      },
      "text/plain": [
       "VBox(children=(HTML(value=''), IntProgress(value=0, max=10)))"
      ]
     },
     "metadata": {},
     "output_type": "display_data"
    },
    {
     "data": {
      "application/vnd.jupyter.widget-view+json": {
       "model_id": "812b446251414a4e80e7e28b55735951",
       "version_major": 2,
       "version_minor": 0
      },
      "text/plain": [
       "VBox(children=(HTML(value=''), IntProgress(value=0, max=15)))"
      ]
     },
     "metadata": {},
     "output_type": "display_data"
    },
    {
     "data": {
      "application/vnd.jupyter.widget-view+json": {
       "model_id": "0bc6aa997a594479a8edf85f43f2dd2d",
       "version_major": 2,
       "version_minor": 0
      },
      "text/plain": [
       "VBox(children=(HTML(value=''), IntProgress(value=0, max=20)))"
      ]
     },
     "metadata": {},
     "output_type": "display_data"
    },
    {
     "data": {
      "application/vnd.jupyter.widget-view+json": {
       "model_id": "203db6a7bc954eceb7f2f06d99656b88",
       "version_major": 2,
       "version_minor": 0
      },
      "text/plain": [
       "VBox(children=(HTML(value=''), IntProgress(value=0, max=25)))"
      ]
     },
     "metadata": {},
     "output_type": "display_data"
    },
    {
     "data": {
      "application/vnd.jupyter.widget-view+json": {
       "model_id": "36ec5b61cb66416bb59eaf4e74368517",
       "version_major": 2,
       "version_minor": 0
      },
      "text/plain": [
       "VBox(children=(HTML(value=''), IntProgress(value=0, max=30)))"
      ]
     },
     "metadata": {},
     "output_type": "display_data"
    },
    {
     "data": {
      "application/vnd.jupyter.widget-view+json": {
       "model_id": "0c784e544fb24bbd9710ca30f3d8d0e8",
       "version_major": 2,
       "version_minor": 0
      },
      "text/plain": [
       "VBox(children=(HTML(value=''), IntProgress(value=0, max=35)))"
      ]
     },
     "metadata": {},
     "output_type": "display_data"
    },
    {
     "data": {
      "application/vnd.jupyter.widget-view+json": {
       "model_id": "7bf8148fa59c4e2cb93926679f6d110d",
       "version_major": 2,
       "version_minor": 0
      },
      "text/plain": [
       "VBox(children=(HTML(value=''), IntProgress(value=0, max=40)))"
      ]
     },
     "metadata": {},
     "output_type": "display_data"
    },
    {
     "data": {
      "application/vnd.jupyter.widget-view+json": {
       "model_id": "01ea8efafda94d7ab3120b50247ffa82",
       "version_major": 2,
       "version_minor": 0
      },
      "text/plain": [
       "VBox(children=(HTML(value=''), IntProgress(value=0, max=45)))"
      ]
     },
     "metadata": {},
     "output_type": "display_data"
    },
    {
     "data": {
      "application/vnd.jupyter.widget-view+json": {
       "model_id": "83933f1508fd4becacbbb44a6e75a11e",
       "version_major": 2,
       "version_minor": 0
      },
      "text/plain": [
       "VBox(children=(HTML(value=''), IntProgress(value=0, max=50)))"
      ]
     },
     "metadata": {},
     "output_type": "display_data"
    },
    {
     "data": {
      "application/vnd.jupyter.widget-view+json": {
       "model_id": "81dcea9e2426413caacb653ea7d1e552",
       "version_major": 2,
       "version_minor": 0
      },
      "text/plain": [
       "VBox(children=(HTML(value=''), IntProgress(value=0, max=55)))"
      ]
     },
     "metadata": {},
     "output_type": "display_data"
    },
    {
     "data": {
      "application/vnd.jupyter.widget-view+json": {
       "model_id": "949708a6339944ffbc26adf8d01c703f",
       "version_major": 2,
       "version_minor": 0
      },
      "text/plain": [
       "VBox(children=(HTML(value=''), IntProgress(value=0, max=60)))"
      ]
     },
     "metadata": {},
     "output_type": "display_data"
    },
    {
     "data": {
      "application/vnd.jupyter.widget-view+json": {
       "model_id": "198984cdc8124921a244ab2888d070df",
       "version_major": 2,
       "version_minor": 0
      },
      "text/plain": [
       "VBox(children=(HTML(value=''), IntProgress(value=0, max=65)))"
      ]
     },
     "metadata": {},
     "output_type": "display_data"
    },
    {
     "data": {
      "application/vnd.jupyter.widget-view+json": {
       "model_id": "51cfdab855124107b5eb7af9d1b7d394",
       "version_major": 2,
       "version_minor": 0
      },
      "text/plain": [
       "VBox(children=(HTML(value=''), IntProgress(value=0, max=70)))"
      ]
     },
     "metadata": {},
     "output_type": "display_data"
    },
    {
     "data": {
      "application/vnd.jupyter.widget-view+json": {
       "model_id": "a985c142d2414014a798403bea0246b7",
       "version_major": 2,
       "version_minor": 0
      },
      "text/plain": [
       "VBox(children=(HTML(value=''), IntProgress(value=0, max=75)))"
      ]
     },
     "metadata": {},
     "output_type": "display_data"
    },
    {
     "data": {
      "application/vnd.jupyter.widget-view+json": {
       "model_id": "79062b548f4b4cef998512ca23d9b58a",
       "version_major": 2,
       "version_minor": 0
      },
      "text/plain": [
       "VBox(children=(HTML(value=''), IntProgress(value=0, max=80)))"
      ]
     },
     "metadata": {},
     "output_type": "display_data"
    },
    {
     "data": {
      "application/vnd.jupyter.widget-view+json": {
       "model_id": "c76cbd407a2247cfb539670d2bdf34e5",
       "version_major": 2,
       "version_minor": 0
      },
      "text/plain": [
       "VBox(children=(HTML(value=''), IntProgress(value=0, max=85)))"
      ]
     },
     "metadata": {},
     "output_type": "display_data"
    },
    {
     "data": {
      "application/vnd.jupyter.widget-view+json": {
       "model_id": "bd842340713d4457bda2af7ae5b7889a",
       "version_major": 2,
       "version_minor": 0
      },
      "text/plain": [
       "VBox(children=(HTML(value=''), IntProgress(value=0, max=90)))"
      ]
     },
     "metadata": {},
     "output_type": "display_data"
    },
    {
     "data": {
      "application/vnd.jupyter.widget-view+json": {
       "model_id": "699a44a3849946fda3c1a2a1aefb51b4",
       "version_major": 2,
       "version_minor": 0
      },
      "text/plain": [
       "VBox(children=(HTML(value=''), IntProgress(value=0, max=95)))"
      ]
     },
     "metadata": {},
     "output_type": "display_data"
    },
    {
     "data": {
      "application/vnd.jupyter.widget-view+json": {
       "model_id": "4586399ba1f4428e878dea404acbe2ed",
       "version_major": 2,
       "version_minor": 0
      },
      "text/plain": [
       "VBox(children=(HTML(value=''), IntProgress(value=0)))"
      ]
     },
     "metadata": {},
     "output_type": "display_data"
    }
   ],
   "source": [
    "accuracy_1 = accuracy_graf_grad(y_test, X_test, grad_f, w_0, 1 / L, 100, f, 4)\n",
    "iterations_1 = 5 * np.array(range(len(accuracy_1)))\n",
    "\n",
    "accuracy_2 = accuracy_graf_ball(y_test, X_test, grad_f, w_0, 1 / L, 0.8, 100, f, 4)\n",
    "iterations_2 = 5 * np.array(range(len(accuracy_2)))"
   ]
  },
  {
   "cell_type": "code",
   "execution_count": 392,
   "id": "bb9647ee",
   "metadata": {
    "ExecuteTime": {
     "end_time": "2023-02-26T14:55:01.300087Z",
     "start_time": "2023-02-26T14:55:00.970517Z"
    },
    "scrolled": false
   },
   "outputs": [
    {
     "data": {
      "image/png": "[encoded data removed]",
      "text/plain": [
       "<Figure size 1440x720 with 1 Axes>"
      ]
     },
     "metadata": {
      "needs_background": "light"
     },
     "output_type": "display_data"
    }
   ],
   "source": [
    "plt.figure(figsize = (20, 10))\n",
    "\n",
    "plt.plot(iterations_1, accuracy_1, color = 'blue', label = 'Обычный градиентный спуск')\n",
    "plt.plot(iterations_2, accuracy_2, color = 'red', label = r'Тяжелый шарик $\\alpha$ = 0.8')\n",
    "\n",
    "plt.title(\"Accuracy от номера итерации\", fontsize = 20)\n",
    "plt.xlabel(\"Номер итерации\", fontsize = 20)\n",
    "plt.ylabel(\"Accuracy\", fontsize = 20)\n",
    "\n",
    "plt.legend(fontsize = 20)\n",
    "plt.show()"
   ]
  },
  {
   "cell_type": "markdown",
   "id": "aad14ea4",
   "metadata": {
    "ExecuteTime": {
     "end_time": "2023-02-24T17:56:12.192363Z",
     "start_time": "2023-02-24T17:56:12.186938Z"
    }
   },
   "source": [
    "Как мы видим метод тяжелого шарика сходится быстрее и точнее, чем обычный градиентный спуск."
   ]
  },
  {
   "cell_type": "markdown",
   "id": "732f76c5",
   "metadata": {},
   "source": [
    "__(г)__ Если в пунктах (б) и (в) столкнулись с проблемами, попробуйте $\\ell_2$-регуляризовать задачу или рассмотреть ее на ограниченном множестве."
   ]
  },
  {
   "cell_type": "markdown",
   "id": "be6057f4",
   "metadata": {},
   "source": [
    "Проблем не возникло"
   ]
  },
  {
   "cell_type": "markdown",
   "id": "b7712495",
   "metadata": {},
   "source": [
    "__(д)__ Реализуйте ускоренный метод Нестерова (в форме Нестерова, а не который доказывали на семинаре). "
   ]
  },
  {
   "cell_type": "markdown",
   "id": "502a4bd8",
   "metadata": {},
   "source": [
    "$$y^k = x^k + \\eta(x^k - x^{k-1})$$\n",
    "\n",
    "$$x^{k+1} = y^k - \\gamma \\nabla f(y^k)$$"
   ]
  },
  {
   "cell_type": "code",
   "execution_count": 372,
   "id": "aedb6c27",
   "metadata": {
    "ExecuteTime": {
     "end_time": "2023-02-26T14:33:25.820954Z",
     "start_time": "2023-02-26T14:33:25.814765Z"
    }
   },
   "outputs": [],
   "source": [
    "def Nesterov_method(grad_f, x_0, gamma, eta, iteration, f, crit, x_sol=None, epsilon=10**-7):\n",
    "    x_now = x_0\n",
    "    x_prev = x_0\n",
    "    errors = []\n",
    "    for k in opt.progress(range(iteration)):\n",
    "        x_next = x_now + eta(k) * (x_now - x_prev) - gamma * grad_f(x_now + eta(k) * (x_now - x_prev))\n",
    "        if crit == 0:\n",
    "            err = np.linalg.norm(x_now - x_sol, ord = 2)**2\n",
    "        elif crit == 1:\n",
    "            err = f(x_now) - f(x_sol)\n",
    "        elif crit == 2:\n",
    "            err = np.linalg.norm(x_next - x_now, ord = 2)**2\n",
    "        elif crit == 3:\n",
    "            err = f(x_now) - f(x_next)\n",
    "        elif crit == 4:\n",
    "            err = np.linalg.norm(grad_f(x_now), ord = 2)**2\n",
    "        x_help = x_now\n",
    "        x_now = x_next\n",
    "        x_prev = x_help\n",
    "        errors.append(err)\n",
    "        if err < epsilon:\n",
    "            break\n",
    "    return x_now, errors"
   ]
  },
  {
   "cell_type": "markdown",
   "id": "919f78fc",
   "metadata": {},
   "source": [
    "__(е)__ Решите задачу логистической регресии с помощью метода Нестерова (не забудьте разделить выборку на две части: обучающую и тестовую). Зафиксируйте шаг $\\frac{1}{L}$ и перебирайте разные значения моментума от -1 до 1. Проверьте также значения моментума равные $\\frac{k}{k+3}$, $\\frac{k}{k+2}$, $\\frac{k}{k+1}$ ($k$ - номер итерации), а если решаете сильно выпуклую задачу, то и $\\frac{\\sqrt{L} - \\sqrt{\\mu}}{\\sqrt{L} + \\sqrt{\\mu}}$. Постройте график сходимости метода от числа итераций (критерий сходимости подберите самостоятельно) для различных значений моментума. Всегда ли сходимость является монотонной?"
   ]
  },
  {
   "cell_type": "code",
   "execution_count": 373,
   "id": "000f47d8",
   "metadata": {
    "ExecuteTime": {
     "end_time": "2023-02-26T14:33:25.826276Z",
     "start_time": "2023-02-26T14:33:25.823545Z"
    }
   },
   "outputs": [],
   "source": [
    "def eta_iter(index):\n",
    "    def eta(k):\n",
    "        return k / (k + index)\n",
    "    return eta"
   ]
  },
  {
   "cell_type": "code",
   "execution_count": 374,
   "id": "3b96efda",
   "metadata": {
    "ExecuteTime": {
     "end_time": "2023-02-26T14:33:25.831457Z",
     "start_time": "2023-02-26T14:33:25.827935Z"
    }
   },
   "outputs": [],
   "source": [
    "def eta_const(nu):\n",
    "    def eta(k):\n",
    "        return nu\n",
    "    return eta"
   ]
  },
  {
   "cell_type": "code",
   "execution_count": 388,
   "id": "6fee05ad",
   "metadata": {
    "ExecuteTime": {
     "end_time": "2023-02-26T14:52:05.596520Z",
     "start_time": "2023-02-26T14:48:30.083652Z"
    },
    "scrolled": true
   },
   "outputs": [
    {
     "data": {
      "application/vnd.jupyter.widget-view+json": {
       "model_id": "e4ef5c7672d0435287b6cb850e0d3f0d",
       "version_major": 2,
       "version_minor": 0
      },
      "text/plain": [
       "VBox(children=(HTML(value=''), IntProgress(value=0, max=4)))"
      ]
     },
     "metadata": {},
     "output_type": "display_data"
    },
    {
     "data": {
      "application/vnd.jupyter.widget-view+json": {
       "model_id": "fbf5db21bdff455a9d63cdc9d5b5c33c",
       "version_major": 2,
       "version_minor": 0
      },
      "text/plain": [
       "VBox(children=(HTML(value=''), IntProgress(value=0, max=400)))"
      ]
     },
     "metadata": {},
     "output_type": "display_data"
    },
    {
     "data": {
      "application/vnd.jupyter.widget-view+json": {
       "model_id": "f658ce5556e44cb198f826bb57799320",
       "version_major": 2,
       "version_minor": 0
      },
      "text/plain": [
       "VBox(children=(HTML(value=''), IntProgress(value=0, max=400)))"
      ]
     },
     "metadata": {},
     "output_type": "display_data"
    },
    {
     "data": {
      "application/vnd.jupyter.widget-view+json": {
       "model_id": "69948b8baaae439bbf322a6852eb1542",
       "version_major": 2,
       "version_minor": 0
      },
      "text/plain": [
       "VBox(children=(HTML(value=''), IntProgress(value=0, max=400)))"
      ]
     },
     "metadata": {},
     "output_type": "display_data"
    },
    {
     "data": {
      "application/vnd.jupyter.widget-view+json": {
       "model_id": "b309c83378c0441699a6544c8c123f45",
       "version_major": 2,
       "version_minor": 0
      },
      "text/plain": [
       "VBox(children=(HTML(value=''), IntProgress(value=0, max=400)))"
      ]
     },
     "metadata": {},
     "output_type": "display_data"
    },
    {
     "data": {
      "application/vnd.jupyter.widget-view+json": {
       "model_id": "321b57b87a254099aea370483c560eb8",
       "version_major": 2,
       "version_minor": 0
      },
      "text/plain": [
       "VBox(children=(HTML(value=''), IntProgress(value=0, max=3)))"
      ]
     },
     "metadata": {},
     "output_type": "display_data"
    },
    {
     "data": {
      "application/vnd.jupyter.widget-view+json": {
       "model_id": "2a28055a1d2f44d9bfd29c0aa513eb00",
       "version_major": 2,
       "version_minor": 0
      },
      "text/plain": [
       "VBox(children=(HTML(value=''), IntProgress(value=0, max=400)))"
      ]
     },
     "metadata": {},
     "output_type": "display_data"
    },
    {
     "data": {
      "application/vnd.jupyter.widget-view+json": {
       "model_id": "f861ed7148dd403c8f42562bf22c0516",
       "version_major": 2,
       "version_minor": 0
      },
      "text/plain": [
       "VBox(children=(HTML(value=''), IntProgress(value=0, max=400)))"
      ]
     },
     "metadata": {},
     "output_type": "display_data"
    },
    {
     "data": {
      "application/vnd.jupyter.widget-view+json": {
       "model_id": "955b744622c74ebaa1c817670dbd523c",
       "version_major": 2,
       "version_minor": 0
      },
      "text/plain": [
       "VBox(children=(HTML(value=''), IntProgress(value=0, max=400)))"
      ]
     },
     "metadata": {},
     "output_type": "display_data"
    }
   ],
   "source": [
    "colors_1 = [\"orange\", \"green\", \"red\", \"cyan\"] \n",
    "errors_1 = []\n",
    "iterations_1 = []\n",
    "etas = [-0.3, 0, 0.4, 0.8]\n",
    "for eta in opt.progress(etas): \n",
    "    _, error = Nesterov_method(grad_f, w_0, 1 / L, eta_const(eta), 400, f, 4)\n",
    "    errors_1.append(error)\n",
    "    iteration = np.array(range(len(error)))\n",
    "    iterations_1.append(iteration)\n",
    "\n",
    "colors_2 = [\"purple\", \"pink\", \"gray\"]\n",
    "errors_2 = []\n",
    "iterations_2 = []\n",
    "numbers = [1, 2, 3]\n",
    "\n",
    "for number in opt.progress(numbers): \n",
    "    _, error = Nesterov_method(grad_f, w_0, 1 / L, eta_iter(number), 400, f, 4)\n",
    "    errors_2.append(error)\n",
    "    iteration = np.array(range(len(error)))\n",
    "    iterations_2.append(iteration)"
   ]
  },
  {
   "cell_type": "code",
   "execution_count": 389,
   "id": "a5fd3001",
   "metadata": {
    "ExecuteTime": {
     "end_time": "2023-02-26T14:52:05.830199Z",
     "start_time": "2023-02-26T14:52:05.598808Z"
    },
    "scrolled": false
   },
   "outputs": [
    {
     "data": {
      "image/png": "[encoded data removed]",
      "text/plain": [
       "<Figure size 1440x720 with 1 Axes>"
      ]
     },
     "metadata": {
      "needs_background": "light"
     },
     "output_type": "display_data"
    }
   ],
   "source": [
    "plt.figure(figsize = (20, 10))\n",
    "\n",
    "for iteration, error, color, eta in zip(iterations_1, errors_1, colors_1, etas):\n",
    "    plt.plot(iteration, np.log(error), color, label = r\"$\\eta$ = \" + str(eta))\n",
    "\n",
    "for iteration, error, color, number in zip(iterations_2, errors_2, colors_2, numbers):\n",
    "    plt.plot(iteration, np.log(error), color, label = r\"$\\eta$ = k / (k + \" + str(number) + r\")\")\n",
    "\n",
    "plt.title(\"Логарифм значения критерия от номера итерации\", fontsize = 18)\n",
    "plt.xlabel(\"Номер итерации\", fontsize = 18)\n",
    "plt.ylabel(\"Значение критерия\", fontsize = 18)\n",
    "\n",
    "plt.legend(fontsize = 20)\n",
    "plt.show()"
   ]
  },
  {
   "cell_type": "markdown",
   "id": "72fe02a0",
   "metadata": {},
   "source": [
    "Как мы видим для положительных $\\eta$ сходимость не является монотонной, но достаточно быстро превращается в монотонную. Оптимальнее всего будет взять $\\eta = \\frac{k}{k + 2}$, так как хорошая скороть сходимости и не очень сильные колебания."
   ]
  },
  {
   "cell_type": "markdown",
   "id": "e74034f6",
   "metadata": {},
   "source": [
    "__(ж)__ Для лучшего значения моментума постройте график зависимости точности модели на тестовой выборке от времени работы метода. Добавьте этот график к графикам для тяжелого шарика и градиентного спуска из пункта (г). Сделайте итоговый вывод."
   ]
  },
  {
   "cell_type": "code",
   "execution_count": 390,
   "id": "aa0b03e4",
   "metadata": {
    "ExecuteTime": {
     "end_time": "2023-02-26T14:52:05.837791Z",
     "start_time": "2023-02-26T14:52:05.832471Z"
    }
   },
   "outputs": [],
   "source": [
    "def accuracy_graf_Nesterov(y_test, X_test, grad_f, x_0, gamma, eta, iteration, f, crit):\n",
    "    accuracy = []\n",
    "    for i in opt.progress(range(5, iteration + 1, 5)):\n",
    "        w, _ = Nesterov_method(grad_f, x_0, gamma, eta, i, f, crit)\n",
    "        y_pred = X_test @ w\n",
    "        for i in range(len(y_pred)):\n",
    "            if y_pred[i] > 0:\n",
    "                y_pred[i] = 1\n",
    "            else:\n",
    "                y_pred[i] = -1\n",
    "        accuracy.append(accuracy_score(y_test, y_pred))\n",
    "    return accuracy"
   ]
  },
  {
   "cell_type": "code",
   "execution_count": 394,
   "id": "7576cbdd",
   "metadata": {
    "ExecuteTime": {
     "end_time": "2023-02-26T14:59:24.482896Z",
     "start_time": "2023-02-26T14:55:13.338783Z"
    },
    "scrolled": true
   },
   "outputs": [
    {
     "data": {
      "application/vnd.jupyter.widget-view+json": {
       "model_id": "5b9ca4e11a2c4d1ca98a644946296ad9",
       "version_major": 2,
       "version_minor": 0
      },
      "text/plain": [
       "VBox(children=(HTML(value=''), IntProgress(value=0, max=20)))"
      ]
     },
     "metadata": {},
     "output_type": "display_data"
    },
    {
     "data": {
      "application/vnd.jupyter.widget-view+json": {
       "model_id": "86c21e577d7d48a099aa4396b83159bb",
       "version_major": 2,
       "version_minor": 0
      },
      "text/plain": [
       "VBox(children=(HTML(value=''), IntProgress(value=0, max=5)))"
      ]
     },
     "metadata": {},
     "output_type": "display_data"
    },
    {
     "data": {
      "application/vnd.jupyter.widget-view+json": {
       "model_id": "183c19c4b4b140f6be013d9a50ef7864",
       "version_major": 2,
       "version_minor": 0
      },
      "text/plain": [
       "VBox(children=(HTML(value=''), IntProgress(value=0, max=10)))"
      ]
     },
     "metadata": {},
     "output_type": "display_data"
    },
    {
     "data": {
      "application/vnd.jupyter.widget-view+json": {
       "model_id": "0c13aa0c5c9e4f00bd68a6ad7d9386a9",
       "version_major": 2,
       "version_minor": 0
      },
      "text/plain": [
       "VBox(children=(HTML(value=''), IntProgress(value=0, max=15)))"
      ]
     },
     "metadata": {},
     "output_type": "display_data"
    },
    {
     "data": {
      "application/vnd.jupyter.widget-view+json": {
       "model_id": "e84aad997b344a1a9ec74074f1e9a984",
       "version_major": 2,
       "version_minor": 0
      },
      "text/plain": [
       "VBox(children=(HTML(value=''), IntProgress(value=0, max=20)))"
      ]
     },
     "metadata": {},
     "output_type": "display_data"
    },
    {
     "data": {
      "application/vnd.jupyter.widget-view+json": {
       "model_id": "46019d87ba6746199b1bb2161063f064",
       "version_major": 2,
       "version_minor": 0
      },
      "text/plain": [
       "VBox(children=(HTML(value=''), IntProgress(value=0, max=25)))"
      ]
     },
     "metadata": {},
     "output_type": "display_data"
    },
    {
     "data": {
      "application/vnd.jupyter.widget-view+json": {
       "model_id": "defa2df6b7894f188d20facd9eba7799",
       "version_major": 2,
       "version_minor": 0
      },
      "text/plain": [
       "VBox(children=(HTML(value=''), IntProgress(value=0, max=30)))"
      ]
     },
     "metadata": {},
     "output_type": "display_data"
    },
    {
     "data": {
      "application/vnd.jupyter.widget-view+json": {
       "model_id": "ebd60f29ed524f148f4a03396db79326",
       "version_major": 2,
       "version_minor": 0
      },
      "text/plain": [
       "VBox(children=(HTML(value=''), IntProgress(value=0, max=35)))"
      ]
     },
     "metadata": {},
     "output_type": "display_data"
    },
    {
     "data": {
      "application/vnd.jupyter.widget-view+json": {
       "model_id": "025b40ff76454e98b1410c79e8ed4336",
       "version_major": 2,
       "version_minor": 0
      },
      "text/plain": [
       "VBox(children=(HTML(value=''), IntProgress(value=0, max=40)))"
      ]
     },
     "metadata": {},
     "output_type": "display_data"
    },
    {
     "data": {
      "application/vnd.jupyter.widget-view+json": {
       "model_id": "8088130be1ea44c091a6e1f542edc557",
       "version_major": 2,
       "version_minor": 0
      },
      "text/plain": [
       "VBox(children=(HTML(value=''), IntProgress(value=0, max=45)))"
      ]
     },
     "metadata": {},
     "output_type": "display_data"
    },
    {
     "data": {
      "application/vnd.jupyter.widget-view+json": {
       "model_id": "9cfac00b3ed04a30b681206720a3e347",
       "version_major": 2,
       "version_minor": 0
      },
      "text/plain": [
       "VBox(children=(HTML(value=''), IntProgress(value=0, max=50)))"
      ]
     },
     "metadata": {},
     "output_type": "display_data"
    },
    {
     "data": {
      "application/vnd.jupyter.widget-view+json": {
       "model_id": "64b33cf0b8154588830dc9d615e7f6b1",
       "version_major": 2,
       "version_minor": 0
      },
      "text/plain": [
       "VBox(children=(HTML(value=''), IntProgress(value=0, max=55)))"
      ]
     },
     "metadata": {},
     "output_type": "display_data"
    },
    {
     "data": {
      "application/vnd.jupyter.widget-view+json": {
       "model_id": "6ca37178ad4442038544c57bab2bc12a",
       "version_major": 2,
       "version_minor": 0
      },
      "text/plain": [
       "VBox(children=(HTML(value=''), IntProgress(value=0, max=60)))"
      ]
     },
     "metadata": {},
     "output_type": "display_data"
    },
    {
     "data": {
      "application/vnd.jupyter.widget-view+json": {
       "model_id": "8d25963fc7374121a38c2af00ed03c56",
       "version_major": 2,
       "version_minor": 0
      },
      "text/plain": [
       "VBox(children=(HTML(value=''), IntProgress(value=0, max=65)))"
      ]
     },
     "metadata": {},
     "output_type": "display_data"
    },
    {
     "data": {
      "application/vnd.jupyter.widget-view+json": {
       "model_id": "a087d03b001a48f8a0ba75bee652b4f5",
       "version_major": 2,
       "version_minor": 0
      },
      "text/plain": [
       "VBox(children=(HTML(value=''), IntProgress(value=0, max=70)))"
      ]
     },
     "metadata": {},
     "output_type": "display_data"
    },
    {
     "data": {
      "application/vnd.jupyter.widget-view+json": {
       "model_id": "a694774492384c83b992504a6243602f",
       "version_major": 2,
       "version_minor": 0
      },
      "text/plain": [
       "VBox(children=(HTML(value=''), IntProgress(value=0, max=75)))"
      ]
     },
     "metadata": {},
     "output_type": "display_data"
    },
    {
     "data": {
      "application/vnd.jupyter.widget-view+json": {
       "model_id": "06077bde23db47179de467e8a26533cc",
       "version_major": 2,
       "version_minor": 0
      },
      "text/plain": [
       "VBox(children=(HTML(value=''), IntProgress(value=0, max=80)))"
      ]
     },
     "metadata": {},
     "output_type": "display_data"
    },
    {
     "data": {
      "application/vnd.jupyter.widget-view+json": {
       "model_id": "b1ab6b2c19ea4d86a90459275d7ae69f",
       "version_major": 2,
       "version_minor": 0
      },
      "text/plain": [
       "VBox(children=(HTML(value=''), IntProgress(value=0, max=85)))"
      ]
     },
     "metadata": {},
     "output_type": "display_data"
    },
    {
     "data": {
      "application/vnd.jupyter.widget-view+json": {
       "model_id": "07e44314aac64ff58d837d20fd239ebd",
       "version_major": 2,
       "version_minor": 0
      },
      "text/plain": [
       "VBox(children=(HTML(value=''), IntProgress(value=0, max=90)))"
      ]
     },
     "metadata": {},
     "output_type": "display_data"
    },
    {
     "data": {
      "application/vnd.jupyter.widget-view+json": {
       "model_id": "1fb6546d03de4c9d90ae4538ab4d01a9",
       "version_major": 2,
       "version_minor": 0
      },
      "text/plain": [
       "VBox(children=(HTML(value=''), IntProgress(value=0, max=95)))"
      ]
     },
     "metadata": {},
     "output_type": "display_data"
    },
    {
     "data": {
      "application/vnd.jupyter.widget-view+json": {
       "model_id": "9c541c7672454c24a3101eb993053852",
       "version_major": 2,
       "version_minor": 0
      },
      "text/plain": [
       "VBox(children=(HTML(value=''), IntProgress(value=0)))"
      ]
     },
     "metadata": {},
     "output_type": "display_data"
    },
    {
     "data": {
      "application/vnd.jupyter.widget-view+json": {
       "model_id": "4aeb0b84942548cf9b02143db85fea6c",
       "version_major": 2,
       "version_minor": 0
      },
      "text/plain": [
       "VBox(children=(HTML(value=''), IntProgress(value=0, max=20)))"
      ]
     },
     "metadata": {},
     "output_type": "display_data"
    },
    {
     "data": {
      "application/vnd.jupyter.widget-view+json": {
       "model_id": "8b876c7965c543ab97e6f91286d4f83e",
       "version_major": 2,
       "version_minor": 0
      },
      "text/plain": [
       "VBox(children=(HTML(value=''), IntProgress(value=0, max=5)))"
      ]
     },
     "metadata": {},
     "output_type": "display_data"
    },
    {
     "data": {
      "application/vnd.jupyter.widget-view+json": {
       "model_id": "15de466712d6436c93f9f8a8ad5d4735",
       "version_major": 2,
       "version_minor": 0
      },
      "text/plain": [
       "VBox(children=(HTML(value=''), IntProgress(value=0, max=10)))"
      ]
     },
     "metadata": {},
     "output_type": "display_data"
    },
    {
     "data": {
      "application/vnd.jupyter.widget-view+json": {
       "model_id": "94077a1d50c54e769e6e667b8e9c81bf",
       "version_major": 2,
       "version_minor": 0
      },
      "text/plain": [
       "VBox(children=(HTML(value=''), IntProgress(value=0, max=15)))"
      ]
     },
     "metadata": {},
     "output_type": "display_data"
    },
    {
     "data": {
      "application/vnd.jupyter.widget-view+json": {
       "model_id": "cbc5103205854013a6cdaeec0fb76ffa",
       "version_major": 2,
       "version_minor": 0
      },
      "text/plain": [
       "VBox(children=(HTML(value=''), IntProgress(value=0, max=20)))"
      ]
     },
     "metadata": {},
     "output_type": "display_data"
    },
    {
     "data": {
      "application/vnd.jupyter.widget-view+json": {
       "model_id": "6825e125205c4376927a6b0c3fd63d03",
       "version_major": 2,
       "version_minor": 0
      },
      "text/plain": [
       "VBox(children=(HTML(value=''), IntProgress(value=0, max=25)))"
      ]
     },
     "metadata": {},
     "output_type": "display_data"
    },
    {
     "data": {
      "application/vnd.jupyter.widget-view+json": {
       "model_id": "21a1c87fee934f749e18e3a3ecfc6f21",
       "version_major": 2,
       "version_minor": 0
      },
      "text/plain": [
       "VBox(children=(HTML(value=''), IntProgress(value=0, max=30)))"
      ]
     },
     "metadata": {},
     "output_type": "display_data"
    },
    {
     "data": {
      "application/vnd.jupyter.widget-view+json": {
       "model_id": "0eb5492383904be5a0644c5381a67fef",
       "version_major": 2,
       "version_minor": 0
      },
      "text/plain": [
       "VBox(children=(HTML(value=''), IntProgress(value=0, max=35)))"
      ]
     },
     "metadata": {},
     "output_type": "display_data"
    },
    {
     "data": {
      "application/vnd.jupyter.widget-view+json": {
       "model_id": "312df8b73f7c4ee4b1f0fa710ec4de34",
       "version_major": 2,
       "version_minor": 0
      },
      "text/plain": [
       "VBox(children=(HTML(value=''), IntProgress(value=0, max=40)))"
      ]
     },
     "metadata": {},
     "output_type": "display_data"
    },
    {
     "data": {
      "application/vnd.jupyter.widget-view+json": {
       "model_id": "7fe961a3807543a08d1b3cbddab2167c",
       "version_major": 2,
       "version_minor": 0
      },
      "text/plain": [
       "VBox(children=(HTML(value=''), IntProgress(value=0, max=45)))"
      ]
     },
     "metadata": {},
     "output_type": "display_data"
    },
    {
     "data": {
      "application/vnd.jupyter.widget-view+json": {
       "model_id": "fb50fc874b0145508c7660684c2edf0a",
       "version_major": 2,
       "version_minor": 0
      },
      "text/plain": [
       "VBox(children=(HTML(value=''), IntProgress(value=0, max=50)))"
      ]
     },
     "metadata": {},
     "output_type": "display_data"
    },
    {
     "data": {
      "application/vnd.jupyter.widget-view+json": {
       "model_id": "f2e15400fc5648d3bb3ed20a19649dd9",
       "version_major": 2,
       "version_minor": 0
      },
      "text/plain": [
       "VBox(children=(HTML(value=''), IntProgress(value=0, max=55)))"
      ]
     },
     "metadata": {},
     "output_type": "display_data"
    },
    {
     "data": {
      "application/vnd.jupyter.widget-view+json": {
       "model_id": "919a13fc2373421ca421e494a1f30fd6",
       "version_major": 2,
       "version_minor": 0
      },
      "text/plain": [
       "VBox(children=(HTML(value=''), IntProgress(value=0, max=60)))"
      ]
     },
     "metadata": {},
     "output_type": "display_data"
    },
    {
     "data": {
      "application/vnd.jupyter.widget-view+json": {
       "model_id": "f617ebfff598430db54a5bee5d445860",
       "version_major": 2,
       "version_minor": 0
      },
      "text/plain": [
       "VBox(children=(HTML(value=''), IntProgress(value=0, max=65)))"
      ]
     },
     "metadata": {},
     "output_type": "display_data"
    },
    {
     "data": {
      "application/vnd.jupyter.widget-view+json": {
       "model_id": "083bb4d119ba45ad9d288ffc1d95527d",
       "version_major": 2,
       "version_minor": 0
      },
      "text/plain": [
       "VBox(children=(HTML(value=''), IntProgress(value=0, max=70)))"
      ]
     },
     "metadata": {},
     "output_type": "display_data"
    },
    {
     "data": {
      "application/vnd.jupyter.widget-view+json": {
       "model_id": "361a8c5fea924d0798fc69e025c52531",
       "version_major": 2,
       "version_minor": 0
      },
      "text/plain": [
       "VBox(children=(HTML(value=''), IntProgress(value=0, max=75)))"
      ]
     },
     "metadata": {},
     "output_type": "display_data"
    },
    {
     "data": {
      "application/vnd.jupyter.widget-view+json": {
       "model_id": "487f6c5a55914f99b470a4c4c8e188b0",
       "version_major": 2,
       "version_minor": 0
      },
      "text/plain": [
       "VBox(children=(HTML(value=''), IntProgress(value=0, max=80)))"
      ]
     },
     "metadata": {},
     "output_type": "display_data"
    },
    {
     "data": {
      "application/vnd.jupyter.widget-view+json": {
       "model_id": "65af3ea1f5bd45839f664c4bf3c5d27c",
       "version_major": 2,
       "version_minor": 0
      },
      "text/plain": [
       "VBox(children=(HTML(value=''), IntProgress(value=0, max=85)))"
      ]
     },
     "metadata": {},
     "output_type": "display_data"
    },
    {
     "data": {
      "application/vnd.jupyter.widget-view+json": {
       "model_id": "dadab1fd4eac44ada2f5e100d299e2ce",
       "version_major": 2,
       "version_minor": 0
      },
      "text/plain": [
       "VBox(children=(HTML(value=''), IntProgress(value=0, max=90)))"
      ]
     },
     "metadata": {},
     "output_type": "display_data"
    },
    {
     "data": {
      "application/vnd.jupyter.widget-view+json": {
       "model_id": "79916787a9594d28a5ba6d28fc79747c",
       "version_major": 2,
       "version_minor": 0
      },
      "text/plain": [
       "VBox(children=(HTML(value=''), IntProgress(value=0, max=95)))"
      ]
     },
     "metadata": {},
     "output_type": "display_data"
    },
    {
     "data": {
      "application/vnd.jupyter.widget-view+json": {
       "model_id": "8705311684da4c68bf839a1864ac8e72",
       "version_major": 2,
       "version_minor": 0
      },
      "text/plain": [
       "VBox(children=(HTML(value=''), IntProgress(value=0)))"
      ]
     },
     "metadata": {},
     "output_type": "display_data"
    },
    {
     "data": {
      "application/vnd.jupyter.widget-view+json": {
       "model_id": "03d33866c0f64cc09e8d58eeaf297396",
       "version_major": 2,
       "version_minor": 0
      },
      "text/plain": [
       "VBox(children=(HTML(value=''), IntProgress(value=0, max=20)))"
      ]
     },
     "metadata": {},
     "output_type": "display_data"
    },
    {
     "data": {
      "application/vnd.jupyter.widget-view+json": {
       "model_id": "687e84be6a9b49559e1451bea7c5dc0d",
       "version_major": 2,
       "version_minor": 0
      },
      "text/plain": [
       "VBox(children=(HTML(value=''), IntProgress(value=0, max=5)))"
      ]
     },
     "metadata": {},
     "output_type": "display_data"
    },
    {
     "data": {
      "application/vnd.jupyter.widget-view+json": {
       "model_id": "742d671e69674e5680be0b9bf54313e3",
       "version_major": 2,
       "version_minor": 0
      },
      "text/plain": [
       "VBox(children=(HTML(value=''), IntProgress(value=0, max=10)))"
      ]
     },
     "metadata": {},
     "output_type": "display_data"
    },
    {
     "data": {
      "application/vnd.jupyter.widget-view+json": {
       "model_id": "337b34b756dd41b5a346bdf1b78417c1",
       "version_major": 2,
       "version_minor": 0
      },
      "text/plain": [
       "VBox(children=(HTML(value=''), IntProgress(value=0, max=15)))"
      ]
     },
     "metadata": {},
     "output_type": "display_data"
    },
    {
     "data": {
      "application/vnd.jupyter.widget-view+json": {
       "model_id": "5476f73f53de4278adb44d3f3c5b500f",
       "version_major": 2,
       "version_minor": 0
      },
      "text/plain": [
       "VBox(children=(HTML(value=''), IntProgress(value=0, max=20)))"
      ]
     },
     "metadata": {},
     "output_type": "display_data"
    },
    {
     "data": {
      "application/vnd.jupyter.widget-view+json": {
       "model_id": "aa5f781534544ff1a99f5ec930af8750",
       "version_major": 2,
       "version_minor": 0
      },
      "text/plain": [
       "VBox(children=(HTML(value=''), IntProgress(value=0, max=25)))"
      ]
     },
     "metadata": {},
     "output_type": "display_data"
    },
    {
     "data": {
      "application/vnd.jupyter.widget-view+json": {
       "model_id": "ea108efd73e94eaa91ae0f26256c162a",
       "version_major": 2,
       "version_minor": 0
      },
      "text/plain": [
       "VBox(children=(HTML(value=''), IntProgress(value=0, max=30)))"
      ]
     },
     "metadata": {},
     "output_type": "display_data"
    },
    {
     "data": {
      "application/vnd.jupyter.widget-view+json": {
       "model_id": "dd4fdad82f4146a1a16ce2e162526e74",
       "version_major": 2,
       "version_minor": 0
      },
      "text/plain": [
       "VBox(children=(HTML(value=''), IntProgress(value=0, max=35)))"
      ]
     },
     "metadata": {},
     "output_type": "display_data"
    },
    {
     "data": {
      "application/vnd.jupyter.widget-view+json": {
       "model_id": "e5b0a5491f91438cb309d73a2cf5f809",
       "version_major": 2,
       "version_minor": 0
      },
      "text/plain": [
       "VBox(children=(HTML(value=''), IntProgress(value=0, max=40)))"
      ]
     },
     "metadata": {},
     "output_type": "display_data"
    },
    {
     "data": {
      "application/vnd.jupyter.widget-view+json": {
       "model_id": "dcadae9df9144a75af8fef71ab014406",
       "version_major": 2,
       "version_minor": 0
      },
      "text/plain": [
       "VBox(children=(HTML(value=''), IntProgress(value=0, max=45)))"
      ]
     },
     "metadata": {},
     "output_type": "display_data"
    },
    {
     "data": {
      "application/vnd.jupyter.widget-view+json": {
       "model_id": "9d182350dd38414b85cf10b1e77c08db",
       "version_major": 2,
       "version_minor": 0
      },
      "text/plain": [
       "VBox(children=(HTML(value=''), IntProgress(value=0, max=50)))"
      ]
     },
     "metadata": {},
     "output_type": "display_data"
    },
    {
     "data": {
      "application/vnd.jupyter.widget-view+json": {
       "model_id": "970a39aa0fc34d4483219369e18ec3cc",
       "version_major": 2,
       "version_minor": 0
      },
      "text/plain": [
       "VBox(children=(HTML(value=''), IntProgress(value=0, max=55)))"
      ]
     },
     "metadata": {},
     "output_type": "display_data"
    },
    {
     "data": {
      "application/vnd.jupyter.widget-view+json": {
       "model_id": "5cfe295d5e7a45f599eae351876e9314",
       "version_major": 2,
       "version_minor": 0
      },
      "text/plain": [
       "VBox(children=(HTML(value=''), IntProgress(value=0, max=60)))"
      ]
     },
     "metadata": {},
     "output_type": "display_data"
    },
    {
     "data": {
      "application/vnd.jupyter.widget-view+json": {
       "model_id": "97c52db3d85c4a27bb5422164b5f0234",
       "version_major": 2,
       "version_minor": 0
      },
      "text/plain": [
       "VBox(children=(HTML(value=''), IntProgress(value=0, max=65)))"
      ]
     },
     "metadata": {},
     "output_type": "display_data"
    },
    {
     "data": {
      "application/vnd.jupyter.widget-view+json": {
       "model_id": "08b010226be5403aae04dd28fb66a106",
       "version_major": 2,
       "version_minor": 0
      },
      "text/plain": [
       "VBox(children=(HTML(value=''), IntProgress(value=0, max=70)))"
      ]
     },
     "metadata": {},
     "output_type": "display_data"
    },
    {
     "data": {
      "application/vnd.jupyter.widget-view+json": {
       "model_id": "b0f95923cbc64bd7be0a27a3e5424e45",
       "version_major": 2,
       "version_minor": 0
      },
      "text/plain": [
       "VBox(children=(HTML(value=''), IntProgress(value=0, max=75)))"
      ]
     },
     "metadata": {},
     "output_type": "display_data"
    },
    {
     "data": {
      "application/vnd.jupyter.widget-view+json": {
       "model_id": "abd3121c59594d45bfcde6bef9c159b3",
       "version_major": 2,
       "version_minor": 0
      },
      "text/plain": [
       "VBox(children=(HTML(value=''), IntProgress(value=0, max=80)))"
      ]
     },
     "metadata": {},
     "output_type": "display_data"
    },
    {
     "data": {
      "application/vnd.jupyter.widget-view+json": {
       "model_id": "a37f470a9352478aab8c9a694febd3dd",
       "version_major": 2,
       "version_minor": 0
      },
      "text/plain": [
       "VBox(children=(HTML(value=''), IntProgress(value=0, max=85)))"
      ]
     },
     "metadata": {},
     "output_type": "display_data"
    },
    {
     "data": {
      "application/vnd.jupyter.widget-view+json": {
       "model_id": "7570cbf2d02f4a74801e0bf5eb7b381e",
       "version_major": 2,
       "version_minor": 0
      },
      "text/plain": [
       "VBox(children=(HTML(value=''), IntProgress(value=0, max=90)))"
      ]
     },
     "metadata": {},
     "output_type": "display_data"
    },
    {
     "data": {
      "application/vnd.jupyter.widget-view+json": {
       "model_id": "ccb2a4609b1d4be5884780c1610f90f2",
       "version_major": 2,
       "version_minor": 0
      },
      "text/plain": [
       "VBox(children=(HTML(value=''), IntProgress(value=0, max=95)))"
      ]
     },
     "metadata": {},
     "output_type": "display_data"
    },
    {
     "data": {
      "application/vnd.jupyter.widget-view+json": {
       "model_id": "d0344b823cf941b2aacac8a898695422",
       "version_major": 2,
       "version_minor": 0
      },
      "text/plain": [
       "VBox(children=(HTML(value=''), IntProgress(value=0)))"
      ]
     },
     "metadata": {},
     "output_type": "display_data"
    }
   ],
   "source": [
    "accuracy_1 = accuracy_graf_Nesterov(y_test, X_test, grad_f, w_0, 1 / L, eta_iter(2), 100, f, 4)\n",
    "iterations_1 = 5 * np.array(range(len(accuracy_1)))\n",
    "\n",
    "accuracy_2 = accuracy_graf_grad(y_test, X_test, grad_f, w_0, 1 / L, 100, f, 4)\n",
    "iterations_2 = 5 * np.array(range(len(accuracy_2)))\n",
    "\n",
    "accuracy_3 = accuracy_graf_ball(y_test, X_test, grad_f, w_0, 1 / L, 0.8, 100, f, 4)\n",
    "iterations_3 = 5 * np.array(range(len(accuracy_3)))"
   ]
  },
  {
   "cell_type": "code",
   "execution_count": 395,
   "id": "55bcfb5c",
   "metadata": {
    "ExecuteTime": {
     "end_time": "2023-02-26T14:59:24.821966Z",
     "start_time": "2023-02-26T14:59:24.485907Z"
    },
    "scrolled": false
   },
   "outputs": [
    {
     "data": {
      "image/png": "[encoded data removed]",
      "text/plain": [
       "<Figure size 1440x720 with 1 Axes>"
      ]
     },
     "metadata": {
      "needs_background": "light"
     },
     "output_type": "display_data"
    }
   ],
   "source": [
    "plt.figure(figsize = (20, 10))\n",
    "\n",
    "plt.plot(iterations_1, accuracy_1, color = 'green', label = r'Метод Нестерова $\\eta = \\frac{k}{k + 2}$')\n",
    "plt.plot(iterations_2, accuracy_2, color = 'blue', label = 'Обычный градиентный спуск')\n",
    "plt.plot(iterations_3, accuracy_3, color = 'red', label = r'Тяжелый шарик $\\alpha$ = 0.8')\n",
    "\n",
    "plt.title(\"Accuracy от номера итерации\", fontsize = 20)\n",
    "plt.xlabel(\"Номер итерации\", fontsize = 20)\n",
    "plt.ylabel(\"Accuracy\", fontsize = 20)\n",
    "\n",
    "plt.legend(fontsize = 20)\n",
    "plt.show()"
   ]
  },
  {
   "cell_type": "markdown",
   "id": "701301b8",
   "metadata": {},
   "source": [
    "Задача с логистической функцией потерь хорошо решается обычным градиентым спуском, примерно также как и с квадратичной функцией потерь.\n",
    "\n",
    "Методы тяжёлого шарика и Нестерова увеличивают скорость сходимости и точность по сравнению с обычным градиентным спуском, но на небольшом числе итераций ведут себя не монотонно. \n",
    "\n",
    "Метод Нестерова сходится быстрее, чем метод тяжёлого шарика, к тому же еще и точнее."
   ]
  },
  {
   "cell_type": "markdown",
   "id": "56317873",
   "metadata": {},
   "source": [
    "__Бонусные пункт__\n",
    "\n",
    "__(з)__ Сделаем подбор константы $L$ адаптивным. Как упоминалось на семинаре, можно измерять локальную $L$, используя:\n",
    "$$\n",
    "f(y) \\leq f(x^k) + \\langle \\nabla f(x^k), y - x^k \\rangle + \\frac{L}{2}\\|x^k - y\\|_2^2\n",
    "$$\n",
    "В частности, может подойти процедура:\n",
    "\n",
    "```python\n",
    "def backtracking_L(f, grad, x, h, L0, rho):\n",
    "    L = L0\n",
    "    fx = f(x)\n",
    "    gradx = grad(x)\n",
    "    while True:\n",
    "        y = x - 1 / L * h\n",
    "        if f(y) <= fx - 1 / L gradx.dot(h) + 1 / (2 * L) h.dot(h):\n",
    "            break\n",
    "        else:\n",
    "            L = L * rho\n",
    "    return L\n",
    "```"
   ]
  },
  {
   "cell_type": "markdown",
   "id": "8f87c7ad",
   "metadata": {},
   "source": [
    "Каким стоит взять __h__? __rho__ должно быть больше или меньше 1? __L0__ надо брать заведомо большим или маленьким?"
   ]
  },
  {
   "cell_type": "code",
   "execution_count": null,
   "id": "caad1f26",
   "metadata": {},
   "outputs": [],
   "source": [
    "#ответ"
   ]
  },
  {
   "cell_type": "markdown",
   "id": "7cd9efb5",
   "metadata": {},
   "source": [
    "__(и)__ Поэксперементируйте с этой процедурой, встроенной в подбор $L$ для шага градиентного спуска. В качестве задачи продолжайте рассматривать логистическую регрессию из Задачи 1. Аналогично встройте процедуру подбора $L$ в метод тяжелого шарика и ускоренный метод Нестерова. Постройте график сходимости метода от числа итераций (критерий сходимости подберите самостоятельно). Отобразите на этом графике градиентный спуск, тяжелый шарик и метод Нестерова с адаптивным шагом и шагом $\\frac{1}{L}$ (всего 6 линий на графике). Сделайте вывод."
   ]
  },
  {
   "cell_type": "code",
   "execution_count": null,
   "id": "06d0027d",
   "metadata": {},
   "outputs": [],
   "source": [
    "#ответ"
   ]
  },
  {
   "cell_type": "markdown",
   "id": "41d242c4",
   "metadata": {},
   "source": [
    "__(к)__ Постройте аналогичный пункту (и) график точности модели от времени."
   ]
  },
  {
   "cell_type": "code",
   "execution_count": null,
   "id": "3e880742",
   "metadata": {},
   "outputs": [],
   "source": [
    "#ответ"
   ]
  },
  {
   "cell_type": "markdown",
   "id": "5de0ffdd",
   "metadata": {},
   "source": [
    "__(л)__ В [работе](https://arxiv.org/pdf/1204.3982.pdf) представлена техника рестартов для подавления немонотонной сходимости Алгоритма 2 (метод Нестерова). Попробуйте повторить эксперименты авторов на $\\ell_2$-регуляризованной квадратичной или логистической регресии. Возьмите параметр регуляризации $\\lambda = L / 100$."
   ]
  },
  {
   "cell_type": "code",
   "execution_count": null,
   "id": "ead8a333",
   "metadata": {},
   "outputs": [],
   "source": [
    "#ответ"
   ]
  }
 ],
 "metadata": {
  "kernelspec": {
   "display_name": "Python 3 (ipykernel)",
   "language": "python",
   "name": "python3"
  },
  "language_info": {
   "codemirror_mode": {
    "name": "ipython",
    "version": 3
   },
   "file_extension": ".py",
   "mimetype": "text/x-python",
   "name": "python",
   "nbconvert_exporter": "python",
   "pygments_lexer": "ipython3",
   "version": "3.11.5"
  }
 },
 "nbformat": 4,
 "nbformat_minor": 5
}
